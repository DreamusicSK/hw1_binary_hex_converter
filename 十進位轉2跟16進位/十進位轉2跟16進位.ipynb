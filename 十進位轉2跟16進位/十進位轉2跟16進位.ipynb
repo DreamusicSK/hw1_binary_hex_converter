{
 "cells": [
  {
   "cell_type": "code",
   "execution_count": 1,
   "id": "aac77a8d",
   "metadata": {},
   "outputs": [
    {
     "name": "stdout",
     "output_type": "stream",
     "text": [
      "請輸入介於0~255想要轉換成二進位與十六的十進位數字89\n",
      "數入數字的二進位是01011001\n",
      "數入數字的十六進位是59\n"
     ]
    }
   ],
   "source": [
    "# 十進位轉換成二進位與16進位\n",
    "\n",
    "number = input('請輸入介於0~255想要轉換成二進位與十六的十進位數字')\n",
    "number = int(number)\n",
    "hex_number = number\n",
    "binary = ''\n",
    "hexa = ''\n",
    "\n",
    "while number > 0:\n",
    "    remainder = number % 2\n",
    "    binary = str(remainder)+binary\n",
    "    number = number//2\n",
    "binary = binary.zfill(8)\n",
    "print('數入數字的二進位是' + binary)\n",
    "\n",
    "while hex_number > 0:\n",
    "    hex_remainder = hex_number % 16\n",
    "    \n",
    "    if hex_remainder < 10:\n",
    "        hex_remainder = hex_number % 16\n",
    "    elif hex_remainder == 10:\n",
    "        hex_remainder = 'A'\n",
    "    elif hex_remainder == 11:\n",
    "        hex_remainder = 'B'\n",
    "    elif hex_remainder == 12:\n",
    "        hex_remainder = 'C'\n",
    "    elif hex_remainder == 13:\n",
    "        hex_remainder = 'D'\n",
    "    elif hex_remainder == 14:\n",
    "        hex_remainder = 'E'\n",
    "    else:\n",
    "        hex_remainder = 'F'\n",
    "    hexa = str(hex_remainder) + hexa\n",
    "    hex_number = hex_number//16\n",
    "hexa = hexa.zfill(2)\n",
    "print('數入數字的十六進位是' + hexa)"
   ]
  },
  {
   "cell_type": "code",
   "execution_count": null,
   "id": "a1939bc0",
   "metadata": {},
   "outputs": [],
   "source": []
  }
 ],
 "metadata": {
  "kernelspec": {
   "display_name": "Python 3",
   "language": "python",
   "name": "python3"
  },
  "language_info": {
   "codemirror_mode": {
    "name": "ipython",
    "version": 3
   },
   "file_extension": ".py",
   "mimetype": "text/x-python",
   "name": "python",
   "nbconvert_exporter": "python",
   "pygments_lexer": "ipython3",
   "version": "3.8.8"
  }
 },
 "nbformat": 4,
 "nbformat_minor": 5
}
